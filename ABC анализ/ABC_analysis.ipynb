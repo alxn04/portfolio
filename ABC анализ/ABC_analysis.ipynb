{
 "cells": [
  {
   "cell_type": "code",
   "execution_count": 103,
   "id": "a4a48976",
   "metadata": {},
   "outputs": [],
   "source": [
    "import pandas as pd\n",
    "import numpy as np\n",
    "import seaborn as sns\n",
    "import matplotlib.pyplot as plt\n",
    "%matplotlib inline"
   ]
  },
  {
   "cell_type": "markdown",
   "id": "c224bde8",
   "metadata": {},
   "source": [
    "## ABC-анализ"
   ]
  },
  {
   "cell_type": "markdown",
   "id": "b696ef99",
   "metadata": {},
   "source": [
    "ABC-анализ проводят, чтобы оценить:\n",
    "\n",
    "* отдельные позиции товаров или всего ассортимента. Так, можно понять, какие товары приносят компании наибольшую прибыль;\n",
    "\n",
    "* складские запасы. Это покажет, что стоит продать в первую очередь;\n",
    "\n",
    "* поставщиков — и выяснить, с кем выгоднее сотрудничать;\n",
    "\n",
    "* базу клиентов — кто из них приносит больше всего прибыли;\n",
    "\n",
    "* эффективность работы отделов — откуда идёт больше отдачи\n",
    "<br>\n",
    "\n",
    "По принципу Парето 20% товаров дают 80% прибыли. ABC-анализ находит эти прибыльные 20%, разделив ассортимент на три группы:\n",
    "\n",
    "* **A — лидеры**: 20% товаров, которые приносят 80% прибыли;\n",
    "* **B — середнячки**: 30%, которые приносят 15% прибыли;\n",
    "* **C — аутсайдеры**: оставшиеся 50%, которые составляют 5% прибыли."
   ]
  },
  {
   "cell_type": "markdown",
   "id": "e1dd444e",
   "metadata": {},
   "source": [
    "### Загрузка данных"
   ]
  },
  {
   "cell_type": "markdown",
   "id": "99d07035",
   "metadata": {},
   "source": [
    "Этот набор данных представляет собой синтетические данные о продажах, созданные только для практических целей. Он не является данными в реальном времени и не основан на реальных бизнес-операциях. Набор данных содержит информацию, которая имитирует транзакции продаж по разным продуктам"
   ]
  },
  {
   "cell_type": "code",
   "execution_count": 30,
   "id": "04d6fd08",
   "metadata": {},
   "outputs": [
    {
     "data": {
      "text/html": [
       "<div>\n",
       "<style scoped>\n",
       "    .dataframe tbody tr th:only-of-type {\n",
       "        vertical-align: middle;\n",
       "    }\n",
       "\n",
       "    .dataframe tbody tr th {\n",
       "        vertical-align: top;\n",
       "    }\n",
       "\n",
       "    .dataframe thead th {\n",
       "        text-align: right;\n",
       "    }\n",
       "</style>\n",
       "<table border=\"1\" class=\"dataframe\">\n",
       "  <thead>\n",
       "    <tr style=\"text-align: right;\">\n",
       "      <th></th>\n",
       "      <th>Product_ID</th>\n",
       "      <th>Sale_Date</th>\n",
       "      <th>Sales_Rep</th>\n",
       "      <th>Region</th>\n",
       "      <th>Sales_Amount</th>\n",
       "      <th>Quantity_Sold</th>\n",
       "      <th>Product_Category</th>\n",
       "      <th>Unit_Cost</th>\n",
       "      <th>Unit_Price</th>\n",
       "      <th>Customer_Type</th>\n",
       "      <th>Discount</th>\n",
       "      <th>Payment_Method</th>\n",
       "      <th>Sales_Channel</th>\n",
       "      <th>Region_and_Sales_Rep</th>\n",
       "    </tr>\n",
       "  </thead>\n",
       "  <tbody>\n",
       "    <tr>\n",
       "      <th>0</th>\n",
       "      <td>1052</td>\n",
       "      <td>2023-02-03</td>\n",
       "      <td>Bob</td>\n",
       "      <td>North</td>\n",
       "      <td>5053.97</td>\n",
       "      <td>18</td>\n",
       "      <td>Furniture</td>\n",
       "      <td>152.75</td>\n",
       "      <td>267.22</td>\n",
       "      <td>Returning</td>\n",
       "      <td>0.09</td>\n",
       "      <td>Cash</td>\n",
       "      <td>Online</td>\n",
       "      <td>North-Bob</td>\n",
       "    </tr>\n",
       "    <tr>\n",
       "      <th>1</th>\n",
       "      <td>1093</td>\n",
       "      <td>2023-04-21</td>\n",
       "      <td>Bob</td>\n",
       "      <td>West</td>\n",
       "      <td>4384.02</td>\n",
       "      <td>17</td>\n",
       "      <td>Furniture</td>\n",
       "      <td>3816.39</td>\n",
       "      <td>4209.44</td>\n",
       "      <td>Returning</td>\n",
       "      <td>0.11</td>\n",
       "      <td>Cash</td>\n",
       "      <td>Retail</td>\n",
       "      <td>West-Bob</td>\n",
       "    </tr>\n",
       "    <tr>\n",
       "      <th>2</th>\n",
       "      <td>1015</td>\n",
       "      <td>2023-09-21</td>\n",
       "      <td>David</td>\n",
       "      <td>South</td>\n",
       "      <td>4631.23</td>\n",
       "      <td>30</td>\n",
       "      <td>Food</td>\n",
       "      <td>261.56</td>\n",
       "      <td>371.40</td>\n",
       "      <td>Returning</td>\n",
       "      <td>0.20</td>\n",
       "      <td>Bank Transfer</td>\n",
       "      <td>Retail</td>\n",
       "      <td>South-David</td>\n",
       "    </tr>\n",
       "    <tr>\n",
       "      <th>3</th>\n",
       "      <td>1072</td>\n",
       "      <td>2023-08-24</td>\n",
       "      <td>Bob</td>\n",
       "      <td>South</td>\n",
       "      <td>2167.94</td>\n",
       "      <td>39</td>\n",
       "      <td>Clothing</td>\n",
       "      <td>4330.03</td>\n",
       "      <td>4467.75</td>\n",
       "      <td>New</td>\n",
       "      <td>0.02</td>\n",
       "      <td>Credit Card</td>\n",
       "      <td>Retail</td>\n",
       "      <td>South-Bob</td>\n",
       "    </tr>\n",
       "    <tr>\n",
       "      <th>4</th>\n",
       "      <td>1061</td>\n",
       "      <td>2023-03-24</td>\n",
       "      <td>Charlie</td>\n",
       "      <td>East</td>\n",
       "      <td>3750.20</td>\n",
       "      <td>13</td>\n",
       "      <td>Electronics</td>\n",
       "      <td>637.37</td>\n",
       "      <td>692.71</td>\n",
       "      <td>New</td>\n",
       "      <td>0.08</td>\n",
       "      <td>Credit Card</td>\n",
       "      <td>Online</td>\n",
       "      <td>East-Charlie</td>\n",
       "    </tr>\n",
       "  </tbody>\n",
       "</table>\n",
       "</div>"
      ],
      "text/plain": [
       "   Product_ID   Sale_Date Sales_Rep Region  Sales_Amount  Quantity_Sold  \\\n",
       "0        1052  2023-02-03       Bob  North       5053.97             18   \n",
       "1        1093  2023-04-21       Bob   West       4384.02             17   \n",
       "2        1015  2023-09-21     David  South       4631.23             30   \n",
       "3        1072  2023-08-24       Bob  South       2167.94             39   \n",
       "4        1061  2023-03-24   Charlie   East       3750.20             13   \n",
       "\n",
       "  Product_Category  Unit_Cost  Unit_Price Customer_Type  Discount  \\\n",
       "0        Furniture     152.75      267.22     Returning      0.09   \n",
       "1        Furniture    3816.39     4209.44     Returning      0.11   \n",
       "2             Food     261.56      371.40     Returning      0.20   \n",
       "3         Clothing    4330.03     4467.75           New      0.02   \n",
       "4      Electronics     637.37      692.71           New      0.08   \n",
       "\n",
       "  Payment_Method Sales_Channel Region_and_Sales_Rep  \n",
       "0           Cash        Online            North-Bob  \n",
       "1           Cash        Retail             West-Bob  \n",
       "2  Bank Transfer        Retail          South-David  \n",
       "3    Credit Card        Retail            South-Bob  \n",
       "4    Credit Card        Online         East-Charlie  "
      ]
     },
     "execution_count": 30,
     "metadata": {},
     "output_type": "execute_result"
    }
   ],
   "source": [
    "data = pd.read_csv('sales_data.csv', sep =',')\n",
    "data.head()"
   ]
  },
  {
   "cell_type": "markdown",
   "id": "f1d8b786",
   "metadata": {},
   "source": [
    "Данные позволяют провести многомерный анализ по выручке, прибыли и количеству проданного товара. Для подсчета прибыли добавим столбец с разницей себестоимости товара и розничной цены."
   ]
  },
  {
   "cell_type": "code",
   "execution_count": 47,
   "id": "60b69570",
   "metadata": {},
   "outputs": [],
   "source": [
    "data['Profit'] = data['Unit_Price'] - data['Unit_Cost']"
   ]
  },
  {
   "cell_type": "markdown",
   "id": "9e190b9f",
   "metadata": {},
   "source": [
    "### Составление ABC групп по выручке"
   ]
  },
  {
   "cell_type": "code",
   "execution_count": 128,
   "id": "72874c1b",
   "metadata": {},
   "outputs": [],
   "source": [
    "sales_amount_df = data.groupby('Product_ID', as_index = False).Sales_Amount.sum().sort_values('Sales_Amount', ascending=False)\n",
    "sales_amount_df['percentage'] = sales_amount_df['Sales_Amount'] / sum(sales_amount_df['Sales_Amount'])\n",
    "sales_amount_df['cumsum'] = sales_amount_df.percentage.cumsum()\n",
    "sales_amount_df['sales_group'] = np.where(sales_amount_df['cumsum'] <= 0.8, 'A', np.where(sales_amount_df['cumsum'] <= 0.95, 'B','C'))"
   ]
  },
  {
   "cell_type": "code",
   "execution_count": 52,
   "id": "909b70dc",
   "metadata": {},
   "outputs": [
    {
     "data": {
      "text/html": [
       "<div>\n",
       "<style scoped>\n",
       "    .dataframe tbody tr th:only-of-type {\n",
       "        vertical-align: middle;\n",
       "    }\n",
       "\n",
       "    .dataframe tbody tr th {\n",
       "        vertical-align: top;\n",
       "    }\n",
       "\n",
       "    .dataframe thead th {\n",
       "        text-align: right;\n",
       "    }\n",
       "</style>\n",
       "<table border=\"1\" class=\"dataframe\">\n",
       "  <thead>\n",
       "    <tr style=\"text-align: right;\">\n",
       "      <th></th>\n",
       "      <th>Product_ID</th>\n",
       "      <th>Sales_Amount</th>\n",
       "      <th>percentage</th>\n",
       "      <th>cumsum</th>\n",
       "      <th>sales_group</th>\n",
       "    </tr>\n",
       "  </thead>\n",
       "  <tbody>\n",
       "    <tr>\n",
       "      <th>98</th>\n",
       "      <td>1099</td>\n",
       "      <td>101773.87</td>\n",
       "      <td>0.020277</td>\n",
       "      <td>0.020277</td>\n",
       "      <td>A</td>\n",
       "    </tr>\n",
       "    <tr>\n",
       "      <th>91</th>\n",
       "      <td>1092</td>\n",
       "      <td>90615.62</td>\n",
       "      <td>0.018054</td>\n",
       "      <td>0.038330</td>\n",
       "      <td>A</td>\n",
       "    </tr>\n",
       "    <tr>\n",
       "      <th>32</th>\n",
       "      <td>1033</td>\n",
       "      <td>89130.41</td>\n",
       "      <td>0.017758</td>\n",
       "      <td>0.056088</td>\n",
       "      <td>A</td>\n",
       "    </tr>\n",
       "    <tr>\n",
       "      <th>89</th>\n",
       "      <td>1090</td>\n",
       "      <td>88043.25</td>\n",
       "      <td>0.017541</td>\n",
       "      <td>0.073629</td>\n",
       "      <td>A</td>\n",
       "    </tr>\n",
       "    <tr>\n",
       "      <th>85</th>\n",
       "      <td>1086</td>\n",
       "      <td>82269.71</td>\n",
       "      <td>0.016391</td>\n",
       "      <td>0.090020</td>\n",
       "      <td>A</td>\n",
       "    </tr>\n",
       "  </tbody>\n",
       "</table>\n",
       "</div>"
      ],
      "text/plain": [
       "    Product_ID  Sales_Amount  percentage    cumsum sales_group\n",
       "98        1099     101773.87    0.020277  0.020277           A\n",
       "91        1092      90615.62    0.018054  0.038330           A\n",
       "32        1033      89130.41    0.017758  0.056088           A\n",
       "89        1090      88043.25    0.017541  0.073629           A\n",
       "85        1086      82269.71    0.016391  0.090020           A"
      ]
     },
     "execution_count": 52,
     "metadata": {},
     "output_type": "execute_result"
    }
   ],
   "source": [
    "sales_amount_df.head()"
   ]
  },
  {
   "cell_type": "markdown",
   "id": "40e2cfa7",
   "metadata": {},
   "source": [
    "### Составление ABC групп по прибыли"
   ]
  },
  {
   "cell_type": "code",
   "execution_count": 129,
   "id": "cea30857",
   "metadata": {},
   "outputs": [],
   "source": [
    "profit_df = data.groupby('Product_ID', as_index = False).Profit.sum().sort_values('Profit', ascending=False)\n",
    "profit_df['percentage'] = profit_df['Profit'] / sum(profit_df['Profit'])\n",
    "profit_df['cumsum'] = profit_df.percentage.cumsum()\n",
    "profit_df['profit_group'] = np.where(profit_df['cumsum'] <= 0.8, 'A', np.where(profit_df['cumsum'] <= 0.95, 'B','C'))"
   ]
  },
  {
   "cell_type": "code",
   "execution_count": 54,
   "id": "a0cf91d3",
   "metadata": {},
   "outputs": [
    {
     "data": {
      "text/html": [
       "<div>\n",
       "<style scoped>\n",
       "    .dataframe tbody tr th:only-of-type {\n",
       "        vertical-align: middle;\n",
       "    }\n",
       "\n",
       "    .dataframe tbody tr th {\n",
       "        vertical-align: top;\n",
       "    }\n",
       "\n",
       "    .dataframe thead th {\n",
       "        text-align: right;\n",
       "    }\n",
       "</style>\n",
       "<table border=\"1\" class=\"dataframe\">\n",
       "  <thead>\n",
       "    <tr style=\"text-align: right;\">\n",
       "      <th></th>\n",
       "      <th>Product_ID</th>\n",
       "      <th>Profit</th>\n",
       "      <th>percentage</th>\n",
       "      <th>cumsum</th>\n",
       "      <th>profit_group</th>\n",
       "    </tr>\n",
       "  </thead>\n",
       "  <tbody>\n",
       "    <tr>\n",
       "      <th>91</th>\n",
       "      <td>1092</td>\n",
       "      <td>5779.96</td>\n",
       "      <td>0.022833</td>\n",
       "      <td>0.022833</td>\n",
       "      <td>A</td>\n",
       "    </tr>\n",
       "    <tr>\n",
       "      <th>89</th>\n",
       "      <td>1090</td>\n",
       "      <td>5693.19</td>\n",
       "      <td>0.022491</td>\n",
       "      <td>0.045324</td>\n",
       "      <td>A</td>\n",
       "    </tr>\n",
       "    <tr>\n",
       "      <th>0</th>\n",
       "      <td>1001</td>\n",
       "      <td>4780.26</td>\n",
       "      <td>0.018884</td>\n",
       "      <td>0.064208</td>\n",
       "      <td>A</td>\n",
       "    </tr>\n",
       "    <tr>\n",
       "      <th>62</th>\n",
       "      <td>1063</td>\n",
       "      <td>4372.75</td>\n",
       "      <td>0.017274</td>\n",
       "      <td>0.081483</td>\n",
       "      <td>A</td>\n",
       "    </tr>\n",
       "    <tr>\n",
       "      <th>85</th>\n",
       "      <td>1086</td>\n",
       "      <td>4367.90</td>\n",
       "      <td>0.017255</td>\n",
       "      <td>0.098738</td>\n",
       "      <td>A</td>\n",
       "    </tr>\n",
       "  </tbody>\n",
       "</table>\n",
       "</div>"
      ],
      "text/plain": [
       "    Product_ID   Profit  percentage    cumsum profit_group\n",
       "91        1092  5779.96    0.022833  0.022833            A\n",
       "89        1090  5693.19    0.022491  0.045324            A\n",
       "0         1001  4780.26    0.018884  0.064208            A\n",
       "62        1063  4372.75    0.017274  0.081483            A\n",
       "85        1086  4367.90    0.017255  0.098738            A"
      ]
     },
     "execution_count": 54,
     "metadata": {},
     "output_type": "execute_result"
    }
   ],
   "source": [
    "profit_df.head()"
   ]
  },
  {
   "cell_type": "markdown",
   "id": "452ab352",
   "metadata": {},
   "source": [
    "### Составление ABC групп по количеству продаж"
   ]
  },
  {
   "cell_type": "code",
   "execution_count": 126,
   "id": "5f6fcdf1",
   "metadata": {},
   "outputs": [],
   "source": [
    "quantity_df = data.groupby('Product_ID', as_index = False).Quantity_Sold.sum().sort_values('Quantity_Sold', ascending=False)\n",
    "quantity_df['percentage'] = quantity_df['Quantity_Sold'] / sum(quantity_df['Quantity_Sold'])\n",
    "quantity_df['cumsum'] = quantity_df.percentage.cumsum()\n",
    "quantity_df['quantity_group'] = np.where(quantity_df['cumsum'] <= 0.8, 'A', np.where(quantity_df['cumsum'] <= 0.95, 'B','C'))"
   ]
  },
  {
   "cell_type": "code",
   "execution_count": 127,
   "id": "7663f054",
   "metadata": {},
   "outputs": [
    {
     "data": {
      "text/html": [
       "<div>\n",
       "<style scoped>\n",
       "    .dataframe tbody tr th:only-of-type {\n",
       "        vertical-align: middle;\n",
       "    }\n",
       "\n",
       "    .dataframe tbody tr th {\n",
       "        vertical-align: top;\n",
       "    }\n",
       "\n",
       "    .dataframe thead th {\n",
       "        text-align: right;\n",
       "    }\n",
       "</style>\n",
       "<table border=\"1\" class=\"dataframe\">\n",
       "  <thead>\n",
       "    <tr style=\"text-align: right;\">\n",
       "      <th></th>\n",
       "      <th>Product_ID</th>\n",
       "      <th>Quantity_Sold</th>\n",
       "      <th>percentage</th>\n",
       "      <th>cumsum</th>\n",
       "      <th>quantity_group</th>\n",
       "    </tr>\n",
       "  </thead>\n",
       "  <tbody>\n",
       "    <tr>\n",
       "      <th>89</th>\n",
       "      <td>1090</td>\n",
       "      <td>590</td>\n",
       "      <td>0.023270</td>\n",
       "      <td>0.023270</td>\n",
       "      <td>A</td>\n",
       "    </tr>\n",
       "    <tr>\n",
       "      <th>91</th>\n",
       "      <td>1092</td>\n",
       "      <td>548</td>\n",
       "      <td>0.021613</td>\n",
       "      <td>0.044883</td>\n",
       "      <td>A</td>\n",
       "    </tr>\n",
       "    <tr>\n",
       "      <th>61</th>\n",
       "      <td>1062</td>\n",
       "      <td>506</td>\n",
       "      <td>0.019957</td>\n",
       "      <td>0.064839</td>\n",
       "      <td>A</td>\n",
       "    </tr>\n",
       "    <tr>\n",
       "      <th>98</th>\n",
       "      <td>1099</td>\n",
       "      <td>502</td>\n",
       "      <td>0.019799</td>\n",
       "      <td>0.084638</td>\n",
       "      <td>A</td>\n",
       "    </tr>\n",
       "    <tr>\n",
       "      <th>57</th>\n",
       "      <td>1058</td>\n",
       "      <td>452</td>\n",
       "      <td>0.017827</td>\n",
       "      <td>0.102465</td>\n",
       "      <td>A</td>\n",
       "    </tr>\n",
       "  </tbody>\n",
       "</table>\n",
       "</div>"
      ],
      "text/plain": [
       "    Product_ID  Quantity_Sold  percentage    cumsum quantity_group\n",
       "89        1090            590    0.023270  0.023270              A\n",
       "91        1092            548    0.021613  0.044883              A\n",
       "61        1062            506    0.019957  0.064839              A\n",
       "98        1099            502    0.019799  0.084638              A\n",
       "57        1058            452    0.017827  0.102465              A"
      ]
     },
     "execution_count": 127,
     "metadata": {},
     "output_type": "execute_result"
    }
   ],
   "source": [
    "quantity_df.head()"
   ]
  },
  {
   "cell_type": "markdown",
   "id": "f95907ee",
   "metadata": {},
   "source": [
    "### Объединение групп в многомерный ABC"
   ]
  },
  {
   "cell_type": "code",
   "execution_count": 130,
   "id": "fcf5eefc",
   "metadata": {},
   "outputs": [
    {
     "data": {
      "text/html": [
       "<div>\n",
       "<style scoped>\n",
       "    .dataframe tbody tr th:only-of-type {\n",
       "        vertical-align: middle;\n",
       "    }\n",
       "\n",
       "    .dataframe tbody tr th {\n",
       "        vertical-align: top;\n",
       "    }\n",
       "\n",
       "    .dataframe thead th {\n",
       "        text-align: right;\n",
       "    }\n",
       "</style>\n",
       "<table border=\"1\" class=\"dataframe\">\n",
       "  <thead>\n",
       "    <tr style=\"text-align: right;\">\n",
       "      <th></th>\n",
       "      <th>Product_ID</th>\n",
       "      <th>sales_group</th>\n",
       "      <th>profit_group</th>\n",
       "      <th>quantity_group</th>\n",
       "      <th>abc_groups</th>\n",
       "    </tr>\n",
       "  </thead>\n",
       "  <tbody>\n",
       "    <tr>\n",
       "      <th>0</th>\n",
       "      <td>1099</td>\n",
       "      <td>A</td>\n",
       "      <td>A</td>\n",
       "      <td>A</td>\n",
       "      <td>AAA</td>\n",
       "    </tr>\n",
       "    <tr>\n",
       "      <th>1</th>\n",
       "      <td>1092</td>\n",
       "      <td>A</td>\n",
       "      <td>A</td>\n",
       "      <td>A</td>\n",
       "      <td>AAA</td>\n",
       "    </tr>\n",
       "    <tr>\n",
       "      <th>2</th>\n",
       "      <td>1033</td>\n",
       "      <td>A</td>\n",
       "      <td>A</td>\n",
       "      <td>A</td>\n",
       "      <td>AAA</td>\n",
       "    </tr>\n",
       "    <tr>\n",
       "      <th>3</th>\n",
       "      <td>1090</td>\n",
       "      <td>A</td>\n",
       "      <td>A</td>\n",
       "      <td>A</td>\n",
       "      <td>AAA</td>\n",
       "    </tr>\n",
       "    <tr>\n",
       "      <th>4</th>\n",
       "      <td>1086</td>\n",
       "      <td>A</td>\n",
       "      <td>A</td>\n",
       "      <td>A</td>\n",
       "      <td>AAA</td>\n",
       "    </tr>\n",
       "  </tbody>\n",
       "</table>\n",
       "</div>"
      ],
      "text/plain": [
       "   Product_ID sales_group profit_group quantity_group abc_groups\n",
       "0        1099           A            A              A        AAA\n",
       "1        1092           A            A              A        AAA\n",
       "2        1033           A            A              A        AAA\n",
       "3        1090           A            A              A        AAA\n",
       "4        1086           A            A              A        AAA"
      ]
     },
     "execution_count": 130,
     "metadata": {},
     "output_type": "execute_result"
    }
   ],
   "source": [
    "abc_df = pd.merge(sales_amount_df, profit_df, on ='Product_ID')\n",
    "abc_df = pd.merge(abc_df, quantity_df, on ='Product_ID')\n",
    "abc_df = abc_df[['Product_ID','sales_group','profit_group','quantity_group']]\n",
    "abc_df['abc_groups'] = abc_df.sales_group + abc_df.profit_group + abc_df.quantity_group\n",
    "abc_df.head()"
   ]
  },
  {
   "cell_type": "code",
   "execution_count": 131,
   "id": "b603243b",
   "metadata": {},
   "outputs": [
    {
     "data": {
      "image/png": "[encoded data removed]",
      "text/plain": [
       "<Figure size 1000x500 with 1 Axes>"
      ]
     },
     "metadata": {},
     "output_type": "display_data"
    }
   ],
   "source": [
    "fig, ax = plt.subplots(figsize=(10,5))\n",
    "sns.countplot(abc_df.abc_groups,order=abc_df.abc_groups.value_counts().index, gap = 0.2, width = 1, ax = ax)\n",
    "plt.title('Распределение количества товаров по ABC группам')\n",
    "plt.xlabel('Количество товаров')\n",
    "plt.ylabel('ABC группы')\n",
    "plt.grid(axis = 'x')\n",
    "# Добавление подписей\n",
    "for bar in ax.patches:\n",
    "    bar_value = bar.get_y() + bar.get_height() / 2  \n",
    "    bin_right = bar.get_x() + bar.get_width() \n",
    "    ax.text(bin_right + 0.1, bar_value,  # Позиция текста (чуть справа от бина)\n",
    "            f'{int(bar.get_width())}', ha='left', va='center')"
   ]
  },
  {
   "cell_type": "markdown",
   "id": "ecec5bbe",
   "metadata": {},
   "source": [
    "### Выводы"
   ]
  },
  {
   "cell_type": "markdown",
   "id": "91252022",
   "metadata": {},
   "source": [
    "Самая многочисленная группа товаров - AAA, это товары, которые отлично продаются, имеют высокую выручку и маржинальность. Рекомендации по товарам данной группы: если товар имеет стабильный спрос, можно попробовать кратковременно повысить на него цену, и если это не приведет к падению продаж - товар станет еще рентабельнее."
   ]
  },
  {
   "cell_type": "markdown",
   "id": "78ca354a",
   "metadata": {},
   "source": [
    "* Группа ABA\n",
    "\n",
    "**Показатели**: отличное число продаж и маржинальность, однако выручка немного отстаёт\n",
    "\n",
    "**Рекомендации**: чтобы повысить выручку по данной категории товаров, необходимо либо ещё больше продаж, либо небольшое повышение цены (при этом следить чтобы не упало число продаж). Оптимальным вариантом будет выставить товар на более видное место, чтобы увеличить число продаж."
   ]
  },
  {
   "cell_type": "markdown",
   "id": "057e408e",
   "metadata": {},
   "source": [
    "* Группа BAB\n",
    "\n",
    "**Показатели**: отличная выручка, однако отстает число продаж и прибыль.\n",
    "\n",
    "**Рекомендации**: усилить маркетинговые кампании для привлечения дополнительного спроса, однако акции в виде скидок на товар не подойдут, так как прибыль может опуститься до категории С. Также можно рассмотреть оптимизацию издержек по товару (например, за счёт переговоров с поставщиками)."
   ]
  },
  {
   "cell_type": "markdown",
   "id": "bac3e9d2",
   "metadata": {},
   "source": [
    "* Группа CCC\n",
    "\n",
    "**Показатели**: мало продаются, имеют низкую выручку и прибыль\n",
    "\n",
    "**Рекомендации**: претенденты на вывод из ассортимента, каждый товар из этой группы следует рассмотреть отдельно уже на уровне ответственных за ассортиментную матрицу, и если не будет вариантов как его \"поднять\" - вывести из ассортимента."
   ]
  },
  {
   "cell_type": "markdown",
   "id": "da39a928",
   "metadata": {},
   "source": [
    "* Группа BBB\n",
    "\n",
    "**Показатели**: средние показатели по всем параметрам (кол-во продаж, выручка, прибыль)\n",
    "\n",
    "**Рекомендации**: данные товары имеют потенциал для улучшения до уровня ААА, для данной категории есть много вариантов по улучшению\n",
    "\n",
    "- переставить товар на более видное место, либо использовать кросс-продажи (предложение клиенту дополнительных товаров, которые логически дополняют его покупку) для увеличения продаж\n",
    "- оптимизировать издержки (найти нового поставщика, либо договориться с текущим) для понижения себестоимости\n",
    "- привить любовь к нишевым товарам, возможно покупатели не знакомы с некоторыми брендами, сделать упор на их рекламу"
   ]
  },
  {
   "cell_type": "markdown",
   "id": "be87e58e",
   "metadata": {},
   "source": [
    "* Группы AAB и ABB\n",
    "\n",
    "**Показатели**: отличная продаваемость при средней маржинальности.\n",
    "\n",
    "**Рекомендации**: нужно найти более выгодную цену поставки чтобы стать AAA, либо немного подтянуть цену, если товар имеет стабильно высокий спрос."
   ]
  },
  {
   "cell_type": "markdown",
   "id": "bc8a6bd9",
   "metadata": {},
   "source": [
    "* Группы BBA и BAA\n",
    "\n",
    "**Показатели**: отличная маржинальность, однако можно улучшить продаваемость товара\n",
    "\n",
    "**Рекомендации**: увеличить число продаж с помощью маркетинговых активностей, например 2+1, либо скидка при покупке от определенного количества товара."
   ]
  },
  {
   "cell_type": "markdown",
   "id": "a578b08c",
   "metadata": {},
   "source": [
    "* Группа BCC\n",
    "\n",
    "**Показатели**: средние продажи, но плохая выручка и маржинальность\n",
    "\n",
    "**Рекомендации**: в данной категории не получится поднять маржинальность за счет скидок на товар, так как могут упасть продажи, опять же стоит пересмотреть себестоимость"
   ]
  },
  {
   "cell_type": "markdown",
   "id": "ad379321",
   "metadata": {},
   "source": [
    "* Группа CBA\n",
    "\n",
    "**Показатели**: отличная маржинальность при малом числе продаж\n",
    "\n",
    "**Рекомендации**: возможно это нишевые товары, для которых особо поднять продажи не получится, но они все равно генерируют прибыль за счет своей высокой маржинальности, можно попробовать увеличить узнаваемость данных товаров среди большего числа покупателей - временно сделать скидку, тогда возможно товар найдет новых фанатов."
   ]
  },
  {
   "cell_type": "markdown",
   "id": "5d3e0b56",
   "metadata": {},
   "source": [
    "* Группа CCB\n",
    "\n",
    "**Показатели**: плохая продаваемость и выручка, средний показатель маржинальности\n",
    "\n",
    "**Рекомендации**: есть потенциал за счет показателя маржинальности, если вырастить количество продаж без потери в прибыли, то поднимется и выручка."
   ]
  },
  {
   "cell_type": "markdown",
   "id": "20ee0691",
   "metadata": {},
   "source": [
    "* Остальные группы (например, ABC, AAC, BCB, CBB, CAA, ACC, CAC по 1 товару)\n",
    "\n",
    "**Показатели**: каждая из этих групп имеет свою комбинацию показателей, где один или несколько аспектов требуют улучшения.\n",
    "\n",
    "**Рекомендации**: одноразовые продукты требуют индивидуального анализа, так как небольшой объём может указывать как на нишевый характер, так и на экспериментальную категорию."
   ]
  }
 ],
 "metadata": {
  "kernelspec": {
   "display_name": "Python 3",
   "language": "python",
   "name": "python3"
  },
  "language_info": {
   "codemirror_mode": {
    "name": "ipython",
    "version": 3
   },
   "file_extension": ".py",
   "mimetype": "text/x-python",
   "name": "python",
   "nbconvert_exporter": "python",
   "pygments_lexer": "ipython3",
   "version": "3.11.9"
  }
 },
 "nbformat": 4,
 "nbformat_minor": 5
}
