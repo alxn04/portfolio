{
 "cells": [
  {
   "cell_type": "code",
   "execution_count": 1,
   "metadata": {},
   "outputs": [],
   "source": [
    "import psycopg2\n",
    "import pandas as pd"
   ]
  },
  {
   "cell_type": "markdown",
   "metadata": {},
   "source": [
    "## Создание БД для выполнения заданий"
   ]
  },
  {
   "cell_type": "code",
   "execution_count": 23,
   "metadata": {},
   "outputs": [],
   "source": [
    "conn = psycopg2.connect(\n",
    "            host='127.0.0.1',\n",
    "            database='sber_test',\n",
    "            user='postgres',\n",
    "            password='1234'\n",
    "        )\n",
    "cur = conn.cursor()"
   ]
  },
  {
   "cell_type": "markdown",
   "metadata": {},
   "source": [
    "### Таблица с данными о договорах"
   ]
  },
  {
   "cell_type": "code",
   "execution_count": 18,
   "metadata": {},
   "outputs": [],
   "source": [
    "cur.execute(\"\"\"\n",
    "                CREATE TABLE IF NOT EXISTS loans_table(\n",
    "                LOAN_ID int,\n",
    "                CLIENT_ID int,\n",
    "                LOAN_DATE date,\n",
    "                LOAN_AMOUNT FLOAT\n",
    "                );\n",
    "            \"\"\")\n",
    "cur.execute(\"\"\"\n",
    "        INSERT INTO loans_table (LOAN_ID, CLIENT_ID, LOAN_DATE, LOAN_AMOUNT) VALUES\n",
    "        (1, 1, '2019-01-15', 10000),\n",
    "        (2, 2, '2020-02-15', 20000),\n",
    "        (3, 3, '2020-03-15', 30000),\n",
    "        (4, 4, '2020-04-15', 40000),\n",
    "        (5, 1, '2020-01-16', 15000),\n",
    "        (6, 2, '2020-03-15', 35000),\n",
    "        (7, 3, '2020-03-15', 5000),\n",
    "        (8, 1, '2020-01-15', 1500),\n",
    "        (9, 2, '2020-02-15', 500),\n",
    "        (10, 1, '2020-01-15', 1500);\n",
    "\"\"\")\n",
    "conn.commit()"
   ]
  },
  {
   "cell_type": "markdown",
   "metadata": {},
   "source": [
    "### Таблица с данными о клиентах"
   ]
  },
  {
   "cell_type": "code",
   "execution_count": 22,
   "metadata": {},
   "outputs": [],
   "source": [
    "cur.execute(\"\"\"\n",
    "                CREATE TABLE IF NOT EXISTS clients_table(\n",
    "                CLIENT_ID int,\n",
    "                CLIENT_NAME varchar(20),\n",
    "                BIRTHDAY date,\n",
    "                GENDER VARCHAR(20));\n",
    "            \"\"\")\n",
    "\n",
    "cur.execute(\"\"\"\n",
    "            INSERT INTO clients_table VALUES\n",
    "            (1,'bob','2020-01-15','male'),\n",
    "            (2,'rocky','2020-02-15','female'),\n",
    "            (3,'like','2020-02-15','female'),\n",
    "            (4,'ricky','2020-02-15','male');\n",
    "            \"\"\")\n",
    "\n",
    "conn.commit()"
   ]
  },
  {
   "cell_type": "markdown",
   "metadata": {},
   "source": [
    "### Таблица с контактами"
   ]
  },
  {
   "cell_type": "code",
   "execution_count": 24,
   "metadata": {},
   "outputs": [],
   "source": [
    "cur.execute(\"\"\"\n",
    "                CREATE TABLE IF NOT EXISTS contacts(\n",
    "                key int,\n",
    "                id int,\n",
    "                phone varchar,\n",
    "                mail varchar\n",
    "                );\n",
    "            \"\"\")\n",
    "\n",
    "cur.execute(\"\"\"\n",
    "            INSERT INTO contacts VALUES\n",
    "            (1,12345,89997776655,'test@mail.ru'),\n",
    "            (2,54321,87778885566,'two@mail.ru'),\n",
    "            (3,98765,87776664577,'three@mail.ru'),\n",
    "            (4,66678,87778885566,'four@mail.ru'),\n",
    "            (5,34567,84547895566,'four@mail.ru'),\n",
    "            (6,34567,89087545678,'five@mail.ru');\n",
    "            \"\"\")\n",
    "\n",
    "conn.commit()"
   ]
  },
  {
   "cell_type": "markdown",
   "metadata": {},
   "source": [
    "## Задание 1."
   ]
  },
  {
   "cell_type": "markdown",
   "metadata": {},
   "source": [
    "Вывести для всех строк из таблицы contacts столбец со всеми key соответствующими определенным id в порядке убывания\n"
   ]
  },
  {
   "cell_type": "code",
   "execution_count": 32,
   "metadata": {},
   "outputs": [
    {
     "name": "stderr",
     "output_type": "stream",
     "text": [
      "C:\\Users\\фвьшт\\AppData\\Local\\Temp\\ipykernel_12184\\121452948.py:1: UserWarning: pandas only supports SQLAlchemy connectable (engine/connection) or database string URI or sqlite3 DBAPI2 connection. Other DBAPI2 objects are not tested. Please consider using SQLAlchemy.\n",
      "  pd.read_sql(\"\"\"\n"
     ]
    },
    {
     "data": {
      "text/html": [
       "<div>\n",
       "<style scoped>\n",
       "    .dataframe tbody tr th:only-of-type {\n",
       "        vertical-align: middle;\n",
       "    }\n",
       "\n",
       "    .dataframe tbody tr th {\n",
       "        vertical-align: top;\n",
       "    }\n",
       "\n",
       "    .dataframe thead th {\n",
       "        text-align: right;\n",
       "    }\n",
       "</style>\n",
       "<table border=\"1\" class=\"dataframe\">\n",
       "  <thead>\n",
       "    <tr style=\"text-align: right;\">\n",
       "      <th></th>\n",
       "      <th>key</th>\n",
       "      <th>id</th>\n",
       "      <th>phone</th>\n",
       "      <th>mail</th>\n",
       "      <th>other_keys</th>\n",
       "    </tr>\n",
       "  </thead>\n",
       "  <tbody>\n",
       "    <tr>\n",
       "      <th>0</th>\n",
       "      <td>1</td>\n",
       "      <td>12345</td>\n",
       "      <td>89997776655</td>\n",
       "      <td>test@mail.ru</td>\n",
       "      <td></td>\n",
       "    </tr>\n",
       "    <tr>\n",
       "      <th>1</th>\n",
       "      <td>2</td>\n",
       "      <td>54321</td>\n",
       "      <td>87778885566</td>\n",
       "      <td>two@mail.ru</td>\n",
       "      <td></td>\n",
       "    </tr>\n",
       "    <tr>\n",
       "      <th>2</th>\n",
       "      <td>3</td>\n",
       "      <td>98765</td>\n",
       "      <td>87776664577</td>\n",
       "      <td>three@mail.ru</td>\n",
       "      <td></td>\n",
       "    </tr>\n",
       "    <tr>\n",
       "      <th>3</th>\n",
       "      <td>4</td>\n",
       "      <td>66678</td>\n",
       "      <td>87778885566</td>\n",
       "      <td>four@mail.ru</td>\n",
       "      <td></td>\n",
       "    </tr>\n",
       "    <tr>\n",
       "      <th>4</th>\n",
       "      <td>5</td>\n",
       "      <td>34567</td>\n",
       "      <td>84547895566</td>\n",
       "      <td>four@mail.ru</td>\n",
       "      <td>5, 6</td>\n",
       "    </tr>\n",
       "    <tr>\n",
       "      <th>5</th>\n",
       "      <td>6</td>\n",
       "      <td>34567</td>\n",
       "      <td>89087545678</td>\n",
       "      <td>five@mail.ru</td>\n",
       "      <td>5, 6</td>\n",
       "    </tr>\n",
       "  </tbody>\n",
       "</table>\n",
       "</div>"
      ],
      "text/plain": [
       "   key     id        phone           mail other_keys\n",
       "0    1  12345  89997776655   test@mail.ru           \n",
       "1    2  54321  87778885566    two@mail.ru           \n",
       "2    3  98765  87776664577  three@mail.ru           \n",
       "3    4  66678  87778885566   four@mail.ru           \n",
       "4    5  34567  84547895566   four@mail.ru       5, 6\n",
       "5    6  34567  89087545678   five@mail.ru       5, 6"
      ]
     },
     "execution_count": 32,
     "metadata": {},
     "output_type": "execute_result"
    }
   ],
   "source": [
    "pd.read_sql(\"\"\"\n",
    "WITH keys AS(\n",
    "    SELECT \n",
    "        id, \n",
    "        string_agg(KEY::text, ', ') as other_keys\n",
    "    FROM contacts\n",
    "    GROUP BY id\n",
    "    HAVING COUNT(KEY) > 1)\n",
    "SELECT\n",
    "\tkey,\n",
    "    contacts.id,\n",
    "    phone,\n",
    "    mail,\n",
    "    COALESCE(other_keys, ' ') as other_keys\n",
    "FROM contacts\n",
    "LEFT JOIN keys ON keys.id = contacts.id;\n",
    "\"\"\", conn)\n"
   ]
  },
  {
   "cell_type": "markdown",
   "metadata": {},
   "source": [
    "## Задание 2."
   ]
  },
  {
   "cell_type": "markdown",
   "metadata": {},
   "source": [
    "Для каждого клиента вывести информацию: суммарная стоимость его договоров выше среднего его пола или ниже\n"
   ]
  },
  {
   "cell_type": "code",
   "execution_count": 33,
   "metadata": {},
   "outputs": [
    {
     "name": "stderr",
     "output_type": "stream",
     "text": [
      "C:\\Users\\фвьшт\\AppData\\Local\\Temp\\ipykernel_12184\\2059796471.py:1: UserWarning: pandas only supports SQLAlchemy connectable (engine/connection) or database string URI or sqlite3 DBAPI2 connection. Other DBAPI2 objects are not tested. Please consider using SQLAlchemy.\n",
      "  pd.read_sql(\"\"\"\n"
     ]
    },
    {
     "data": {
      "text/html": [
       "<div>\n",
       "<style scoped>\n",
       "    .dataframe tbody tr th:only-of-type {\n",
       "        vertical-align: middle;\n",
       "    }\n",
       "\n",
       "    .dataframe tbody tr th {\n",
       "        vertical-align: top;\n",
       "    }\n",
       "\n",
       "    .dataframe thead th {\n",
       "        text-align: right;\n",
       "    }\n",
       "</style>\n",
       "<table border=\"1\" class=\"dataframe\">\n",
       "  <thead>\n",
       "    <tr style=\"text-align: right;\">\n",
       "      <th></th>\n",
       "      <th>client_id</th>\n",
       "      <th>gender</th>\n",
       "      <th>sum_amount</th>\n",
       "      <th>avg_gender_amount</th>\n",
       "      <th>more_than_avg_gender</th>\n",
       "    </tr>\n",
       "  </thead>\n",
       "  <tbody>\n",
       "    <tr>\n",
       "      <th>0</th>\n",
       "      <td>1</td>\n",
       "      <td>male</td>\n",
       "      <td>28000.0</td>\n",
       "      <td>34000.0</td>\n",
       "      <td>0</td>\n",
       "    </tr>\n",
       "    <tr>\n",
       "      <th>1</th>\n",
       "      <td>2</td>\n",
       "      <td>female</td>\n",
       "      <td>55500.0</td>\n",
       "      <td>45250.0</td>\n",
       "      <td>1</td>\n",
       "    </tr>\n",
       "    <tr>\n",
       "      <th>2</th>\n",
       "      <td>3</td>\n",
       "      <td>female</td>\n",
       "      <td>35000.0</td>\n",
       "      <td>45250.0</td>\n",
       "      <td>0</td>\n",
       "    </tr>\n",
       "    <tr>\n",
       "      <th>3</th>\n",
       "      <td>4</td>\n",
       "      <td>male</td>\n",
       "      <td>40000.0</td>\n",
       "      <td>34000.0</td>\n",
       "      <td>1</td>\n",
       "    </tr>\n",
       "  </tbody>\n",
       "</table>\n",
       "</div>"
      ],
      "text/plain": [
       "   client_id  gender  sum_amount  avg_gender_amount  more_than_avg_gender\n",
       "0          1    male     28000.0            34000.0                     0\n",
       "1          2  female     55500.0            45250.0                     1\n",
       "2          3  female     35000.0            45250.0                     0\n",
       "3          4    male     40000.0            34000.0                     1"
      ]
     },
     "execution_count": 33,
     "metadata": {},
     "output_type": "execute_result"
    }
   ],
   "source": [
    "pd.read_sql(\"\"\"\n",
    "WITH gender_amounts AS\n",
    "  (SELECT \n",
    "      gender,\n",
    "      lt.client_id,\n",
    "      sum(loan_amount) as sum_amount\n",
    "  FROM loans_table lt\n",
    "  JOIN clients_table ct ON ct.client_id = lt.client_id\n",
    "  GROUP BY gender, lt.client_id)\n",
    "SELECT\n",
    "  \tclient_id,\n",
    "    gender,\n",
    "    sum_amount,\n",
    "    AVG(sum_amount) OVER(PARTITION BY gender) as avg_gender_amount,\n",
    "    CASE\n",
    "    \tWHEN sum_amount > AVG(sum_amount) OVER(PARTITION BY gender)\n",
    "        THEN 1\n",
    "        else 0\n",
    "    end as more_than_avg_gender\n",
    "FROM gender_amounts\n",
    "order by client_id\n",
    "\"\"\", conn)"
   ]
  },
  {
   "cell_type": "markdown",
   "metadata": {},
   "source": [
    "## Задание 3."
   ]
  },
  {
   "cell_type": "markdown",
   "metadata": {},
   "source": [
    "Собрать в виде сводной таблицы с разбивкой по полу: сколько первых, вторых и третьих договоров было заключено в 2020 году"
   ]
  },
  {
   "cell_type": "code",
   "execution_count": 34,
   "metadata": {},
   "outputs": [
    {
     "name": "stderr",
     "output_type": "stream",
     "text": [
      "C:\\Users\\фвьшт\\AppData\\Local\\Temp\\ipykernel_12184\\1597126910.py:1: UserWarning: pandas only supports SQLAlchemy connectable (engine/connection) or database string URI or sqlite3 DBAPI2 connection. Other DBAPI2 objects are not tested. Please consider using SQLAlchemy.\n",
      "  pd.read_sql(\"\"\"\n"
     ]
    },
    {
     "data": {
      "text/html": [
       "<div>\n",
       "<style scoped>\n",
       "    .dataframe tbody tr th:only-of-type {\n",
       "        vertical-align: middle;\n",
       "    }\n",
       "\n",
       "    .dataframe tbody tr th {\n",
       "        vertical-align: top;\n",
       "    }\n",
       "\n",
       "    .dataframe thead th {\n",
       "        text-align: right;\n",
       "    }\n",
       "</style>\n",
       "<table border=\"1\" class=\"dataframe\">\n",
       "  <thead>\n",
       "    <tr style=\"text-align: right;\">\n",
       "      <th></th>\n",
       "      <th>gender</th>\n",
       "      <th>1</th>\n",
       "      <th>2</th>\n",
       "      <th>3</th>\n",
       "    </tr>\n",
       "  </thead>\n",
       "  <tbody>\n",
       "    <tr>\n",
       "      <th>0</th>\n",
       "      <td>female</td>\n",
       "      <td>2</td>\n",
       "      <td>2</td>\n",
       "      <td>1</td>\n",
       "    </tr>\n",
       "    <tr>\n",
       "      <th>1</th>\n",
       "      <td>male</td>\n",
       "      <td>2</td>\n",
       "      <td>1</td>\n",
       "      <td>1</td>\n",
       "    </tr>\n",
       "  </tbody>\n",
       "</table>\n",
       "</div>"
      ],
      "text/plain": [
       "   gender  1  2  3\n",
       "0  female  2  2  1\n",
       "1    male  2  1  1"
      ]
     },
     "execution_count": 34,
     "metadata": {},
     "output_type": "execute_result"
    }
   ],
   "source": [
    "pd.read_sql(\"\"\"\n",
    "WITH loan_numbers AS (\n",
    "  SELECT\n",
    "      lt.client_id,\n",
    "      ROW_NUMBER() OVER (PARTITION BY lt.client_id ORDER BY loan_date) as loan_number,\n",
    "      gender\n",
    "  FROM loans_table lt\n",
    "  JOIN clients_table ct ON ct.client_id = lt.client_id\n",
    "  WHERE date_part('year', loan_date::date) = 2020)\n",
    "  \n",
    " SELECT\n",
    "    gender,\n",
    "    COUNT(CASE WHEN loan_number = 1 THEN 1 END) as \"1\",\n",
    "    COUNT(CASE WHEN loan_number = 2 THEN 1 END) as \"2\",\n",
    "    COUNT(CASE WHEN loan_number = 3 THEN 1 END) as \"3\"\n",
    " FROM loan_numbers\n",
    " GROUP BY gender\n",
    "\"\"\", conn)"
   ]
  },
  {
   "cell_type": "markdown",
   "metadata": {},
   "source": [
    "## Задание 4."
   ]
  },
  {
   "cell_type": "markdown",
   "metadata": {},
   "source": [
    "Для каждого клиента вывести: сумму каждого его договора и сумму всех его договоров накопительным итогом.\n",
    "\n",
    "Перед каждым новым договором добавьте дополнительную строку с датой, которая предшествует дате договора на 1 день и со значением суммы = NULL, это будет значить, что обязательства договоры исполнены"
   ]
  },
  {
   "cell_type": "code",
   "execution_count": 35,
   "metadata": {},
   "outputs": [
    {
     "name": "stderr",
     "output_type": "stream",
     "text": [
      "C:\\Users\\фвьшт\\AppData\\Local\\Temp\\ipykernel_12184\\2018728802.py:1: UserWarning: pandas only supports SQLAlchemy connectable (engine/connection) or database string URI or sqlite3 DBAPI2 connection. Other DBAPI2 objects are not tested. Please consider using SQLAlchemy.\n",
      "  pd.read_sql(\"\"\"\n"
     ]
    },
    {
     "data": {
      "text/html": [
       "<div>\n",
       "<style scoped>\n",
       "    .dataframe tbody tr th:only-of-type {\n",
       "        vertical-align: middle;\n",
       "    }\n",
       "\n",
       "    .dataframe tbody tr th {\n",
       "        vertical-align: top;\n",
       "    }\n",
       "\n",
       "    .dataframe thead th {\n",
       "        text-align: right;\n",
       "    }\n",
       "</style>\n",
       "<table border=\"1\" class=\"dataframe\">\n",
       "  <thead>\n",
       "    <tr style=\"text-align: right;\">\n",
       "      <th></th>\n",
       "      <th>client_id</th>\n",
       "      <th>loan_date</th>\n",
       "      <th>loan_amount</th>\n",
       "      <th>amount_cumsum</th>\n",
       "    </tr>\n",
       "  </thead>\n",
       "  <tbody>\n",
       "    <tr>\n",
       "      <th>0</th>\n",
       "      <td>1</td>\n",
       "      <td>2019-01-15</td>\n",
       "      <td>10000.0</td>\n",
       "      <td>10000.0</td>\n",
       "    </tr>\n",
       "    <tr>\n",
       "      <th>1</th>\n",
       "      <td>1</td>\n",
       "      <td>2020-01-14</td>\n",
       "      <td>NaN</td>\n",
       "      <td>10000.0</td>\n",
       "    </tr>\n",
       "    <tr>\n",
       "      <th>2</th>\n",
       "      <td>1</td>\n",
       "      <td>2020-01-15</td>\n",
       "      <td>1500.0</td>\n",
       "      <td>11500.0</td>\n",
       "    </tr>\n",
       "    <tr>\n",
       "      <th>3</th>\n",
       "      <td>1</td>\n",
       "      <td>2020-01-14</td>\n",
       "      <td>NaN</td>\n",
       "      <td>11500.0</td>\n",
       "    </tr>\n",
       "    <tr>\n",
       "      <th>4</th>\n",
       "      <td>1</td>\n",
       "      <td>2020-01-15</td>\n",
       "      <td>1500.0</td>\n",
       "      <td>13000.0</td>\n",
       "    </tr>\n",
       "    <tr>\n",
       "      <th>5</th>\n",
       "      <td>1</td>\n",
       "      <td>2020-01-15</td>\n",
       "      <td>NaN</td>\n",
       "      <td>13000.0</td>\n",
       "    </tr>\n",
       "    <tr>\n",
       "      <th>6</th>\n",
       "      <td>1</td>\n",
       "      <td>2020-01-16</td>\n",
       "      <td>15000.0</td>\n",
       "      <td>28000.0</td>\n",
       "    </tr>\n",
       "    <tr>\n",
       "      <th>7</th>\n",
       "      <td>2</td>\n",
       "      <td>2020-02-15</td>\n",
       "      <td>20000.0</td>\n",
       "      <td>20000.0</td>\n",
       "    </tr>\n",
       "    <tr>\n",
       "      <th>8</th>\n",
       "      <td>2</td>\n",
       "      <td>2020-02-14</td>\n",
       "      <td>NaN</td>\n",
       "      <td>20000.0</td>\n",
       "    </tr>\n",
       "    <tr>\n",
       "      <th>9</th>\n",
       "      <td>2</td>\n",
       "      <td>2020-02-15</td>\n",
       "      <td>500.0</td>\n",
       "      <td>20500.0</td>\n",
       "    </tr>\n",
       "    <tr>\n",
       "      <th>10</th>\n",
       "      <td>2</td>\n",
       "      <td>2020-03-14</td>\n",
       "      <td>NaN</td>\n",
       "      <td>20500.0</td>\n",
       "    </tr>\n",
       "    <tr>\n",
       "      <th>11</th>\n",
       "      <td>2</td>\n",
       "      <td>2020-03-15</td>\n",
       "      <td>35000.0</td>\n",
       "      <td>55500.0</td>\n",
       "    </tr>\n",
       "    <tr>\n",
       "      <th>12</th>\n",
       "      <td>3</td>\n",
       "      <td>2020-03-15</td>\n",
       "      <td>30000.0</td>\n",
       "      <td>30000.0</td>\n",
       "    </tr>\n",
       "    <tr>\n",
       "      <th>13</th>\n",
       "      <td>3</td>\n",
       "      <td>2020-03-14</td>\n",
       "      <td>NaN</td>\n",
       "      <td>30000.0</td>\n",
       "    </tr>\n",
       "    <tr>\n",
       "      <th>14</th>\n",
       "      <td>3</td>\n",
       "      <td>2020-03-15</td>\n",
       "      <td>5000.0</td>\n",
       "      <td>35000.0</td>\n",
       "    </tr>\n",
       "    <tr>\n",
       "      <th>15</th>\n",
       "      <td>4</td>\n",
       "      <td>2020-04-15</td>\n",
       "      <td>40000.0</td>\n",
       "      <td>40000.0</td>\n",
       "    </tr>\n",
       "  </tbody>\n",
       "</table>\n",
       "</div>"
      ],
      "text/plain": [
       "    client_id  loan_date  loan_amount  amount_cumsum\n",
       "0           1 2019-01-15      10000.0        10000.0\n",
       "1           1 2020-01-14          NaN        10000.0\n",
       "2           1 2020-01-15       1500.0        11500.0\n",
       "3           1 2020-01-14          NaN        11500.0\n",
       "4           1 2020-01-15       1500.0        13000.0\n",
       "5           1 2020-01-15          NaN        13000.0\n",
       "6           1 2020-01-16      15000.0        28000.0\n",
       "7           2 2020-02-15      20000.0        20000.0\n",
       "8           2 2020-02-14          NaN        20000.0\n",
       "9           2 2020-02-15        500.0        20500.0\n",
       "10          2 2020-03-14          NaN        20500.0\n",
       "11          2 2020-03-15      35000.0        55500.0\n",
       "12          3 2020-03-15      30000.0        30000.0\n",
       "13          3 2020-03-14          NaN        30000.0\n",
       "14          3 2020-03-15       5000.0        35000.0\n",
       "15          4 2020-04-15      40000.0        40000.0"
      ]
     },
     "execution_count": 35,
     "metadata": {},
     "output_type": "execute_result"
    }
   ],
   "source": [
    "pd.read_sql(\"\"\"\n",
    "WITH loan_row_numbers as (SELECT\n",
    "     client_id,\n",
    "     loan_date,\n",
    "     loan_amount,\n",
    "     ROW_NUMBER() OVER (PARTITION BY client_id ORDER BY loan_date, loan_id) as rn\n",
    "FROM loans_table lt),\n",
    "loan_completed as (SELECT \n",
    "\tclient_id,\n",
    "    loan_date - interval '1 day' as loan_date,\n",
    "    NULL::integer as loan_amount,\n",
    "    rn - 0.5 as rn\n",
    "FROM loan_row_numbers\n",
    "WHERE rn != 1),\n",
    "loans_full_data AS (\n",
    "SELECT client_id, loan_date, loan_amount, rn FROM loan_row_numbers\n",
    "UNION all\n",
    "SELECT * FROM loan_completed)\n",
    "\n",
    "SELECT \n",
    "\tclient_id,\n",
    "    loan_date,\n",
    "    loan_amount,\n",
    "    SUM(loan_amount) OVER (PARTITION BY client_id ORDER BY rn) as amount_cumsum\n",
    "FROM loans_full_data\n",
    "order by client_id, rn\n",
    "\"\"\", conn)"
   ]
  },
  {
   "cell_type": "markdown",
   "metadata": {},
   "source": [
    "### Задание 5."
   ]
  },
  {
   "cell_type": "markdown",
   "metadata": {},
   "source": [
    "Предложите метод аналитики эффективности работы компании, на основании имеющихся данных\n",
    "* Какие выводы вы могли бы сделать? Приведите несколько вариантов\n",
    "* Какие дополнительные данные вам нужны, чтобы сделать анализ более эффективным? \n",
    "\n",
    "Можно провести:\n",
    "1. **Когортный анализ в разрезе метрики LTV**: как каждая когорта возвращается и продолжает заключать новые договора? За когорту взять год, так же разделить когорты на сегменты по полу клиента. С помощью данного анализа можно получить информацию о примерном доходе с одного клиента.\n",
    "2. **RFM анализ:** так мы сможем разделить клиентов по различным сегментам (часто заключают договора на большие суммы, редко заключают договора на большие суммы и т.д.), посмотреть распределение сегментов.\n",
    "\n",
    "Необходимые дополнительные данные:\n",
    "\n",
    "1. Прежде всего необходимо понимать предметную область компании, в нескольких заданиях внимание акцентировано на сегментировании по полу клиентов, скорее всего есть значимые различия в заключении договоров между мужчинами и женщинами.\n",
    "\n",
    "2. Из понимания предметной области также можно внести корректировки в когортный анализ, анализ Retention, в контексте периода возвращения, возможно для компании нормальна ситуация, когда клиенты заключают договоры не раз в полгода, а раз в год или два, и отслеживать нужно эти периоды.\n",
    "\n",
    "3. Также необходима информация о стоимости привлечения клиентов (CAC), чтобы сравнить ее с LTV и сделать выводы о рентабельности продукта."
   ]
  },
  {
   "cell_type": "markdown",
   "metadata": {},
   "source": [
    "Пример когортного анализа метрики LTV на имеющихся данных:"
   ]
  },
  {
   "cell_type": "code",
   "execution_count": 36,
   "metadata": {},
   "outputs": [
    {
     "name": "stderr",
     "output_type": "stream",
     "text": [
      "C:\\Users\\фвьшт\\AppData\\Local\\Temp\\ipykernel_12184\\668157497.py:1: UserWarning: pandas only supports SQLAlchemy connectable (engine/connection) or database string URI or sqlite3 DBAPI2 connection. Other DBAPI2 objects are not tested. Please consider using SQLAlchemy.\n",
      "  pd.read_sql(\"\"\"\n"
     ]
    },
    {
     "data": {
      "text/html": [
       "<div>\n",
       "<style scoped>\n",
       "    .dataframe tbody tr th:only-of-type {\n",
       "        vertical-align: middle;\n",
       "    }\n",
       "\n",
       "    .dataframe tbody tr th {\n",
       "        vertical-align: top;\n",
       "    }\n",
       "\n",
       "    .dataframe thead th {\n",
       "        text-align: right;\n",
       "    }\n",
       "</style>\n",
       "<table border=\"1\" class=\"dataframe\">\n",
       "  <thead>\n",
       "    <tr style=\"text-align: right;\">\n",
       "      <th></th>\n",
       "      <th>cohort</th>\n",
       "      <th>gender</th>\n",
       "      <th>0-180</th>\n",
       "      <th>180-365</th>\n",
       "      <th>365-500</th>\n",
       "    </tr>\n",
       "  </thead>\n",
       "  <tbody>\n",
       "    <tr>\n",
       "      <th>0</th>\n",
       "      <td>2019.0</td>\n",
       "      <td>male</td>\n",
       "      <td>10000.0</td>\n",
       "      <td>None</td>\n",
       "      <td>18000.0</td>\n",
       "    </tr>\n",
       "    <tr>\n",
       "      <th>1</th>\n",
       "      <td>2020.0</td>\n",
       "      <td>female</td>\n",
       "      <td>90500.0</td>\n",
       "      <td>None</td>\n",
       "      <td>NaN</td>\n",
       "    </tr>\n",
       "    <tr>\n",
       "      <th>2</th>\n",
       "      <td>2020.0</td>\n",
       "      <td>male</td>\n",
       "      <td>40000.0</td>\n",
       "      <td>None</td>\n",
       "      <td>NaN</td>\n",
       "    </tr>\n",
       "  </tbody>\n",
       "</table>\n",
       "</div>"
      ],
      "text/plain": [
       "   cohort  gender    0-180 180-365  365-500\n",
       "0  2019.0    male  10000.0    None  18000.0\n",
       "1  2020.0  female  90500.0    None      NaN\n",
       "2  2020.0    male  40000.0    None      NaN"
      ]
     },
     "execution_count": 36,
     "metadata": {},
     "output_type": "execute_result"
    }
   ],
   "source": [
    "pd.read_sql(\"\"\"\n",
    "WITH cohorts AS(\n",
    "SELECT \n",
    "\tlt.client_id,\n",
    "    gender,\n",
    "    loan_amount,\n",
    "    FIRST_VALUE(date_part('year', loan_date)) OVER (PARTITION BY lt.client_id ORDER BY loan_date) as cohort,\n",
    "    loan_date - FIRST_VALUE(loan_date) OVER (PARTITION BY lt.client_id ORDER BY loan_date) as diff\n",
    "FROM loans_table lt\n",
    "LEFT JOIN clients_table ct ON ct.client_id = lt.client_id)\n",
    "\n",
    "SELECT\n",
    "\tcohort,\n",
    "    gender,\n",
    "    SUM(CASE WHEN diff >= 0 and diff < 180 THEN loan_amount END) AS \"0-180\",\n",
    "    SUM(CASE WHEN diff >= 180 and diff < 365 THEN loan_amount END) AS \"180-365\",\n",
    "    SUM(CASE WHEN diff >= 365 and diff < 500 THEN loan_amount END) AS \"365-500\"\n",
    "FROM cohorts\n",
    "GROUP BY cohort, gender \n",
    "ORDER BY cohort\n",
    "\"\"\", conn)\n"
   ]
  },
  {
   "cell_type": "markdown",
   "metadata": {},
   "source": [
    "Женщины склонны заключать договора на более крупные суммы, однако не возвращаются спустя время.\n",
    "\n",
    "В то же время мужчины заключают договора на меньшие суммы и охотнее заключают новые договора спустя время. \n",
    "\n",
    "> Когорт и данных мало, поэтому выводы нерепрезентативны. Это пример рассуждений после проведения когортного анализа LTV."
   ]
  }
 ],
 "metadata": {
  "kernelspec": {
   "display_name": "Python 3",
   "language": "python",
   "name": "python3"
  },
  "language_info": {
   "codemirror_mode": {
    "name": "ipython",
    "version": 3
   },
   "file_extension": ".py",
   "mimetype": "text/x-python",
   "name": "python",
   "nbconvert_exporter": "python",
   "pygments_lexer": "ipython3",
   "version": "3.11.9"
  }
 },
 "nbformat": 4,
 "nbformat_minor": 2
}
