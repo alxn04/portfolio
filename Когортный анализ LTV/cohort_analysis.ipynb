{
 "cells": [
  {
   "cell_type": "code",
   "execution_count": 173,
   "metadata": {},
   "outputs": [],
   "source": [
    "import seaborn as sns\n",
    "import matplotlib.pyplot as plt\n",
    "import pandas as pd\n",
    "import numpy as np\n",
    "%matplotlib inline"
   ]
  },
  {
   "cell_type": "markdown",
   "metadata": {},
   "source": [
    "# Когортный анализ LTV пользователей e-com сервиса британского ретейлера"
   ]
  },
  {
   "cell_type": "markdown",
   "metadata": {},
   "source": [
    "Это транснациональный набор данных, содержащий все транзакции, произошедшие между 01.12.2010 и 09.12.2011 для зарегистрированной в Великобритании немагазинной интернет-торговли. Компания в основном продает уникальные подарки на все случаи жизни. Многие клиенты компании являются оптовиками"
   ]
  },
  {
   "cell_type": "markdown",
   "metadata": {},
   "source": [
    "### LTV"
   ]
  },
  {
   "cell_type": "markdown",
   "metadata": {},
   "source": [
    "`LTV, или Lifetime Value`, — пожизненная ценность клиента. Метрика показывает, сколько денег клиент принёс компании за всё время взаимодействия с ней. Это может быть и чистая прибыль от клиента, и доход от всех его заказов.\n",
    "\n",
    "Метрику используют, чтобы понять, оправданы ли затраты на привлечение, вовлечение и удержание клиента."
   ]
  },
  {
   "cell_type": "markdown",
   "metadata": {},
   "source": [
    "$$ LTV = \\frac{Суммарный\\ доход\\ за\\ определенный\\ период}{Количество\\ пользователей} $$"
   ]
  },
  {
   "cell_type": "markdown",
   "metadata": {},
   "source": [
    "### Предобработка данных"
   ]
  },
  {
   "cell_type": "code",
   "execution_count": 94,
   "metadata": {},
   "outputs": [
    {
     "data": {
      "text/html": [
       "<div>\n",
       "<style scoped>\n",
       "    .dataframe tbody tr th:only-of-type {\n",
       "        vertical-align: middle;\n",
       "    }\n",
       "\n",
       "    .dataframe tbody tr th {\n",
       "        vertical-align: top;\n",
       "    }\n",
       "\n",
       "    .dataframe thead th {\n",
       "        text-align: right;\n",
       "    }\n",
       "</style>\n",
       "<table border=\"1\" class=\"dataframe\">\n",
       "  <thead>\n",
       "    <tr style=\"text-align: right;\">\n",
       "      <th></th>\n",
       "      <th>InvoiceNo</th>\n",
       "      <th>StockCode</th>\n",
       "      <th>Description</th>\n",
       "      <th>Quantity</th>\n",
       "      <th>InvoiceDate</th>\n",
       "      <th>UnitPrice</th>\n",
       "      <th>CustomerID</th>\n",
       "      <th>Country</th>\n",
       "    </tr>\n",
       "  </thead>\n",
       "  <tbody>\n",
       "    <tr>\n",
       "      <th>0</th>\n",
       "      <td>536365</td>\n",
       "      <td>85123A</td>\n",
       "      <td>WHITE HANGING HEART T-LIGHT HOLDER</td>\n",
       "      <td>6</td>\n",
       "      <td>2010-12-01 08:26:00</td>\n",
       "      <td>2.55</td>\n",
       "      <td>17850.0</td>\n",
       "      <td>United Kingdom</td>\n",
       "    </tr>\n",
       "    <tr>\n",
       "      <th>1</th>\n",
       "      <td>536365</td>\n",
       "      <td>71053</td>\n",
       "      <td>WHITE METAL LANTERN</td>\n",
       "      <td>6</td>\n",
       "      <td>2010-12-01 08:26:00</td>\n",
       "      <td>3.39</td>\n",
       "      <td>17850.0</td>\n",
       "      <td>United Kingdom</td>\n",
       "    </tr>\n",
       "    <tr>\n",
       "      <th>2</th>\n",
       "      <td>536365</td>\n",
       "      <td>84406B</td>\n",
       "      <td>CREAM CUPID HEARTS COAT HANGER</td>\n",
       "      <td>8</td>\n",
       "      <td>2010-12-01 08:26:00</td>\n",
       "      <td>2.75</td>\n",
       "      <td>17850.0</td>\n",
       "      <td>United Kingdom</td>\n",
       "    </tr>\n",
       "    <tr>\n",
       "      <th>3</th>\n",
       "      <td>536365</td>\n",
       "      <td>84029G</td>\n",
       "      <td>KNITTED UNION FLAG HOT WATER BOTTLE</td>\n",
       "      <td>6</td>\n",
       "      <td>2010-12-01 08:26:00</td>\n",
       "      <td>3.39</td>\n",
       "      <td>17850.0</td>\n",
       "      <td>United Kingdom</td>\n",
       "    </tr>\n",
       "    <tr>\n",
       "      <th>4</th>\n",
       "      <td>536365</td>\n",
       "      <td>84029E</td>\n",
       "      <td>RED WOOLLY HOTTIE WHITE HEART.</td>\n",
       "      <td>6</td>\n",
       "      <td>2010-12-01 08:26:00</td>\n",
       "      <td>3.39</td>\n",
       "      <td>17850.0</td>\n",
       "      <td>United Kingdom</td>\n",
       "    </tr>\n",
       "  </tbody>\n",
       "</table>\n",
       "</div>"
      ],
      "text/plain": [
       "  InvoiceNo StockCode                          Description  Quantity  \\\n",
       "0    536365    85123A   WHITE HANGING HEART T-LIGHT HOLDER         6   \n",
       "1    536365     71053                  WHITE METAL LANTERN         6   \n",
       "2    536365    84406B       CREAM CUPID HEARTS COAT HANGER         8   \n",
       "3    536365    84029G  KNITTED UNION FLAG HOT WATER BOTTLE         6   \n",
       "4    536365    84029E       RED WOOLLY HOTTIE WHITE HEART.         6   \n",
       "\n",
       "          InvoiceDate  UnitPrice  CustomerID         Country  \n",
       "0 2010-12-01 08:26:00       2.55     17850.0  United Kingdom  \n",
       "1 2010-12-01 08:26:00       3.39     17850.0  United Kingdom  \n",
       "2 2010-12-01 08:26:00       2.75     17850.0  United Kingdom  \n",
       "3 2010-12-01 08:26:00       3.39     17850.0  United Kingdom  \n",
       "4 2010-12-01 08:26:00       3.39     17850.0  United Kingdom  "
      ]
     },
     "execution_count": 94,
     "metadata": {},
     "output_type": "execute_result"
    }
   ],
   "source": [
    "df = pd.read_csv('ecom_data.csv', encoding='1251', parse_dates=['InvoiceDate'])\n",
    "df.head()"
   ]
  },
  {
   "cell_type": "markdown",
   "metadata": {},
   "source": [
    "Оставим колонки, необходимые для анализа LTV: ID клиента, дата заказа, сумма заказа."
   ]
  },
  {
   "cell_type": "code",
   "execution_count": 95,
   "metadata": {},
   "outputs": [],
   "source": [
    "df['OrderSum'] = df.UnitPrice * df.Quantity"
   ]
  },
  {
   "cell_type": "code",
   "execution_count": 96,
   "metadata": {},
   "outputs": [],
   "source": [
    "df = df[['CustomerID', 'InvoiceDate', 'OrderSum']]\n",
    "df.InvoiceDate = df.InvoiceDate.dt.date"
   ]
  },
  {
   "cell_type": "markdown",
   "metadata": {},
   "source": [
    "Имеются данные за целый календарный год, когорты можно построить по месяцам."
   ]
  },
  {
   "cell_type": "code",
   "execution_count": 97,
   "metadata": {},
   "outputs": [
    {
     "name": "stdout",
     "output_type": "stream",
     "text": [
      "Данные предоставлены за период с 2010-12-01 по 2011-12-09\n"
     ]
    }
   ],
   "source": [
    "print(f\"Данные предоставлены за период с {df.InvoiceDate.min()} по {df.InvoiceDate.max()}\")"
   ]
  },
  {
   "cell_type": "code",
   "execution_count": 98,
   "metadata": {},
   "outputs": [
    {
     "data": {
      "text/plain": [
       "CustomerID     135080\n",
       "InvoiceDate         0\n",
       "OrderSum            0\n",
       "dtype: int64"
      ]
     },
     "execution_count": 98,
     "metadata": {},
     "output_type": "execute_result"
    }
   ],
   "source": [
    "df.isna().sum()"
   ]
  },
  {
   "cell_type": "markdown",
   "metadata": {},
   "source": [
    "Данные, где не указан ID клиента не будут иметь практического значения для когортного анализа, их нужно удалить."
   ]
  },
  {
   "cell_type": "code",
   "execution_count": 99,
   "metadata": {},
   "outputs": [],
   "source": [
    "df = df[~df.CustomerID.isna()]\n",
    "df.CustomerID = df.CustomerID.astype(int)"
   ]
  },
  {
   "cell_type": "markdown",
   "metadata": {},
   "source": [
    "### Составление когорт"
   ]
  },
  {
   "cell_type": "code",
   "execution_count": 102,
   "metadata": {},
   "outputs": [
    {
     "data": {
      "text/html": [
       "<div>\n",
       "<style scoped>\n",
       "    .dataframe tbody tr th:only-of-type {\n",
       "        vertical-align: middle;\n",
       "    }\n",
       "\n",
       "    .dataframe tbody tr th {\n",
       "        vertical-align: top;\n",
       "    }\n",
       "\n",
       "    .dataframe thead th {\n",
       "        text-align: right;\n",
       "    }\n",
       "</style>\n",
       "<table border=\"1\" class=\"dataframe\">\n",
       "  <thead>\n",
       "    <tr style=\"text-align: right;\">\n",
       "      <th></th>\n",
       "      <th>CustomerID</th>\n",
       "      <th>Cohort</th>\n",
       "    </tr>\n",
       "  </thead>\n",
       "  <tbody>\n",
       "    <tr>\n",
       "      <th>0</th>\n",
       "      <td>12346</td>\n",
       "      <td>2011-01-01</td>\n",
       "    </tr>\n",
       "    <tr>\n",
       "      <th>1</th>\n",
       "      <td>12347</td>\n",
       "      <td>2010-12-01</td>\n",
       "    </tr>\n",
       "    <tr>\n",
       "      <th>2</th>\n",
       "      <td>12348</td>\n",
       "      <td>2010-12-01</td>\n",
       "    </tr>\n",
       "    <tr>\n",
       "      <th>3</th>\n",
       "      <td>12349</td>\n",
       "      <td>2011-11-01</td>\n",
       "    </tr>\n",
       "    <tr>\n",
       "      <th>4</th>\n",
       "      <td>12350</td>\n",
       "      <td>2011-02-01</td>\n",
       "    </tr>\n",
       "  </tbody>\n",
       "</table>\n",
       "</div>"
      ],
      "text/plain": [
       "   CustomerID      Cohort\n",
       "0       12346  2011-01-01\n",
       "1       12347  2010-12-01\n",
       "2       12348  2010-12-01\n",
       "3       12349  2011-11-01\n",
       "4       12350  2011-02-01"
      ]
     },
     "execution_count": 102,
     "metadata": {},
     "output_type": "execute_result"
    }
   ],
   "source": [
    "customers_cohorts = df.groupby('CustomerID', as_index=False).InvoiceDate.min()\n",
    "customers_cohorts['InvoiceDate'] = pd.to_datetime(customers_cohorts['InvoiceDate']).dt.strftime(\"%Y-%m-01\")\n",
    "customers_cohorts.rename(columns=({'InvoiceDate' : 'Cohort'}), inplace=True)\n",
    "customers_cohorts.head()"
   ]
  },
  {
   "cell_type": "markdown",
   "metadata": {},
   "source": [
    "Соединим когорты с данными о заказах каждого пользователя.\n",
    "\n",
    "Будем считать LTV в разрезе: месяц от первого заказа, два месяца, три месяца, полгода, год.\n",
    "\n",
    "Для этого посчитаем у каждого пользователя разницу между датой очереднего и первого заказа в днях, далее эту разницу поделим по необходимым нам периодам."
   ]
  },
  {
   "cell_type": "code",
   "execution_count": 230,
   "metadata": {},
   "outputs": [
    {
     "data": {
      "text/html": [
       "<div>\n",
       "<style scoped>\n",
       "    .dataframe tbody tr th:only-of-type {\n",
       "        vertical-align: middle;\n",
       "    }\n",
       "\n",
       "    .dataframe tbody tr th {\n",
       "        vertical-align: top;\n",
       "    }\n",
       "\n",
       "    .dataframe thead th {\n",
       "        text-align: right;\n",
       "    }\n",
       "</style>\n",
       "<table border=\"1\" class=\"dataframe\">\n",
       "  <thead>\n",
       "    <tr style=\"text-align: right;\">\n",
       "      <th></th>\n",
       "      <th>CustomerID</th>\n",
       "      <th>InvoiceDate</th>\n",
       "      <th>OrderSum</th>\n",
       "      <th>Cohort</th>\n",
       "      <th>Diff</th>\n",
       "      <th>DiffPeriods</th>\n",
       "    </tr>\n",
       "  </thead>\n",
       "  <tbody>\n",
       "    <tr>\n",
       "      <th>0</th>\n",
       "      <td>17850</td>\n",
       "      <td>2010-12-01</td>\n",
       "      <td>15.30</td>\n",
       "      <td>2010-12-01</td>\n",
       "      <td>0</td>\n",
       "      <td>0</td>\n",
       "    </tr>\n",
       "    <tr>\n",
       "      <th>1</th>\n",
       "      <td>17850</td>\n",
       "      <td>2010-12-01</td>\n",
       "      <td>20.34</td>\n",
       "      <td>2010-12-01</td>\n",
       "      <td>0</td>\n",
       "      <td>0</td>\n",
       "    </tr>\n",
       "    <tr>\n",
       "      <th>2</th>\n",
       "      <td>17850</td>\n",
       "      <td>2010-12-01</td>\n",
       "      <td>22.00</td>\n",
       "      <td>2010-12-01</td>\n",
       "      <td>0</td>\n",
       "      <td>0</td>\n",
       "    </tr>\n",
       "    <tr>\n",
       "      <th>3</th>\n",
       "      <td>17850</td>\n",
       "      <td>2010-12-01</td>\n",
       "      <td>20.34</td>\n",
       "      <td>2010-12-01</td>\n",
       "      <td>0</td>\n",
       "      <td>0</td>\n",
       "    </tr>\n",
       "    <tr>\n",
       "      <th>4</th>\n",
       "      <td>17850</td>\n",
       "      <td>2010-12-01</td>\n",
       "      <td>20.34</td>\n",
       "      <td>2010-12-01</td>\n",
       "      <td>0</td>\n",
       "      <td>0</td>\n",
       "    </tr>\n",
       "    <tr>\n",
       "      <th>...</th>\n",
       "      <td>...</td>\n",
       "      <td>...</td>\n",
       "      <td>...</td>\n",
       "      <td>...</td>\n",
       "      <td>...</td>\n",
       "      <td>...</td>\n",
       "    </tr>\n",
       "    <tr>\n",
       "      <th>406824</th>\n",
       "      <td>12680</td>\n",
       "      <td>2011-12-09</td>\n",
       "      <td>10.20</td>\n",
       "      <td>2011-08-01</td>\n",
       "      <td>130</td>\n",
       "      <td>180</td>\n",
       "    </tr>\n",
       "    <tr>\n",
       "      <th>406825</th>\n",
       "      <td>12680</td>\n",
       "      <td>2011-12-09</td>\n",
       "      <td>12.60</td>\n",
       "      <td>2011-08-01</td>\n",
       "      <td>130</td>\n",
       "      <td>180</td>\n",
       "    </tr>\n",
       "    <tr>\n",
       "      <th>406826</th>\n",
       "      <td>12680</td>\n",
       "      <td>2011-12-09</td>\n",
       "      <td>16.60</td>\n",
       "      <td>2011-08-01</td>\n",
       "      <td>130</td>\n",
       "      <td>180</td>\n",
       "    </tr>\n",
       "    <tr>\n",
       "      <th>406827</th>\n",
       "      <td>12680</td>\n",
       "      <td>2011-12-09</td>\n",
       "      <td>16.60</td>\n",
       "      <td>2011-08-01</td>\n",
       "      <td>130</td>\n",
       "      <td>180</td>\n",
       "    </tr>\n",
       "    <tr>\n",
       "      <th>406828</th>\n",
       "      <td>12680</td>\n",
       "      <td>2011-12-09</td>\n",
       "      <td>14.85</td>\n",
       "      <td>2011-08-01</td>\n",
       "      <td>130</td>\n",
       "      <td>180</td>\n",
       "    </tr>\n",
       "  </tbody>\n",
       "</table>\n",
       "<p>406829 rows × 6 columns</p>\n",
       "</div>"
      ],
      "text/plain": [
       "        CustomerID InvoiceDate  OrderSum     Cohort  Diff DiffPeriods\n",
       "0            17850  2010-12-01     15.30 2010-12-01     0           0\n",
       "1            17850  2010-12-01     20.34 2010-12-01     0           0\n",
       "2            17850  2010-12-01     22.00 2010-12-01     0           0\n",
       "3            17850  2010-12-01     20.34 2010-12-01     0           0\n",
       "4            17850  2010-12-01     20.34 2010-12-01     0           0\n",
       "...            ...         ...       ...        ...   ...         ...\n",
       "406824       12680  2011-12-09     10.20 2011-08-01   130         180\n",
       "406825       12680  2011-12-09     12.60 2011-08-01   130         180\n",
       "406826       12680  2011-12-09     16.60 2011-08-01   130         180\n",
       "406827       12680  2011-12-09     16.60 2011-08-01   130         180\n",
       "406828       12680  2011-12-09     14.85 2011-08-01   130         180\n",
       "\n",
       "[406829 rows x 6 columns]"
      ]
     },
     "execution_count": 230,
     "metadata": {},
     "output_type": "execute_result"
    }
   ],
   "source": [
    "merged_df = df.merge(customers_cohorts, on='CustomerID')\n",
    "merged_df.InvoiceDate = pd.to_datetime(merged_df.InvoiceDate)\n",
    "merged_df.Cohort = pd.to_datetime(merged_df.Cohort)\n",
    "merged_df['Diff'] = (merged_df.InvoiceDate - merged_df.Cohort).dt.days\n",
    "merged_df['DiffPeriods'] = pd.cut(merged_df.Diff, bins=[-1,0,7,30,60,90,180,360], labels=['0','7','30','60','90','180','360'])\n",
    "merged_df"
   ]
  },
  {
   "cell_type": "markdown",
   "metadata": {},
   "source": [
    "### Расчет LTV по когортам"
   ]
  },
  {
   "cell_type": "code",
   "execution_count": 231,
   "metadata": {},
   "outputs": [
    {
     "name": "stderr",
     "output_type": "stream",
     "text": [
      "C:\\Users\\фвьшт\\AppData\\Local\\Temp\\ipykernel_14396\\3318971116.py:1: FutureWarning: The default value of observed=False is deprecated and will change to observed=True in a future version of pandas. Specify observed=False to silence this warning and retain the current behavior\n",
      "  ltv_cohorts = pd.pivot_table(merged_df, index='Cohort', columns = 'DiffPeriods', values = 'OrderSum', aggfunc= 'sum')\n"
     ]
    },
    {
     "data": {
      "text/html": [
       "<div>\n",
       "<style scoped>\n",
       "    .dataframe tbody tr th:only-of-type {\n",
       "        vertical-align: middle;\n",
       "    }\n",
       "\n",
       "    .dataframe tbody tr th {\n",
       "        vertical-align: top;\n",
       "    }\n",
       "\n",
       "    .dataframe thead th {\n",
       "        text-align: right;\n",
       "    }\n",
       "</style>\n",
       "<table border=\"1\" class=\"dataframe\">\n",
       "  <thead>\n",
       "    <tr style=\"text-align: right;\">\n",
       "      <th>DiffPeriods</th>\n",
       "      <th>0</th>\n",
       "      <th>7</th>\n",
       "      <th>30</th>\n",
       "      <th>60</th>\n",
       "      <th>90</th>\n",
       "      <th>180</th>\n",
       "      <th>360</th>\n",
       "    </tr>\n",
       "    <tr>\n",
       "      <th>Cohort</th>\n",
       "      <th></th>\n",
       "      <th></th>\n",
       "      <th></th>\n",
       "      <th></th>\n",
       "      <th></th>\n",
       "      <th></th>\n",
       "      <th></th>\n",
       "    </tr>\n",
       "  </thead>\n",
       "  <tbody>\n",
       "    <tr>\n",
       "      <th>2010-12-01</th>\n",
       "      <td>48.577278</td>\n",
       "      <td>282.115506</td>\n",
       "      <td>585.025338</td>\n",
       "      <td>858.427479</td>\n",
       "      <td>1125.781572</td>\n",
       "      <td>1976.501519</td>\n",
       "      <td>4385.071255</td>\n",
       "    </tr>\n",
       "    <tr>\n",
       "      <th>2011-01-01</th>\n",
       "      <td>0.000000</td>\n",
       "      <td>84.068242</td>\n",
       "      <td>483.272827</td>\n",
       "      <td>621.983990</td>\n",
       "      <td>768.453230</td>\n",
       "      <td>1258.266770</td>\n",
       "      <td>2378.443185</td>\n",
       "    </tr>\n",
       "    <tr>\n",
       "      <th>2011-02-01</th>\n",
       "      <td>24.039789</td>\n",
       "      <td>101.734579</td>\n",
       "      <td>395.873289</td>\n",
       "      <td>474.893737</td>\n",
       "      <td>560.368579</td>\n",
       "      <td>854.838579</td>\n",
       "      <td>1447.676816</td>\n",
       "    </tr>\n",
       "    <tr>\n",
       "      <th>2011-03-01</th>\n",
       "      <td>24.848409</td>\n",
       "      <td>132.661000</td>\n",
       "      <td>431.659273</td>\n",
       "      <td>491.621091</td>\n",
       "      <td>609.799318</td>\n",
       "      <td>897.040045</td>\n",
       "      <td>1350.762659</td>\n",
       "    </tr>\n",
       "    <tr>\n",
       "      <th>2011-04-01</th>\n",
       "      <td>22.201338</td>\n",
       "      <td>110.238361</td>\n",
       "      <td>400.549334</td>\n",
       "      <td>497.275187</td>\n",
       "      <td>580.646625</td>\n",
       "      <td>838.868264</td>\n",
       "      <td>1075.487829</td>\n",
       "    </tr>\n",
       "    <tr>\n",
       "      <th>2011-05-01</th>\n",
       "      <td>5.801004</td>\n",
       "      <td>84.282760</td>\n",
       "      <td>415.264301</td>\n",
       "      <td>478.575950</td>\n",
       "      <td>543.698100</td>\n",
       "      <td>819.843154</td>\n",
       "      <td>974.416523</td>\n",
       "    </tr>\n",
       "    <tr>\n",
       "      <th>2011-06-01</th>\n",
       "      <td>7.241532</td>\n",
       "      <td>94.713149</td>\n",
       "      <td>393.708128</td>\n",
       "      <td>451.684511</td>\n",
       "      <td>510.351915</td>\n",
       "      <td>893.694468</td>\n",
       "      <td>951.021191</td>\n",
       "    </tr>\n",
       "    <tr>\n",
       "      <th>2011-07-01</th>\n",
       "      <td>6.722827</td>\n",
       "      <td>91.998063</td>\n",
       "      <td>344.936497</td>\n",
       "      <td>403.360005</td>\n",
       "      <td>482.496707</td>\n",
       "      <td>706.872152</td>\n",
       "      <td>NaN</td>\n",
       "    </tr>\n",
       "    <tr>\n",
       "      <th>2011-08-01</th>\n",
       "      <td>43.467365</td>\n",
       "      <td>174.043293</td>\n",
       "      <td>465.019341</td>\n",
       "      <td>579.525329</td>\n",
       "      <td>745.775868</td>\n",
       "      <td>1101.260659</td>\n",
       "      <td>NaN</td>\n",
       "    </tr>\n",
       "    <tr>\n",
       "      <th>2011-09-01</th>\n",
       "      <td>8.862047</td>\n",
       "      <td>54.198188</td>\n",
       "      <td>514.357688</td>\n",
       "      <td>600.913359</td>\n",
       "      <td>721.041681</td>\n",
       "      <td>762.223594</td>\n",
       "      <td>NaN</td>\n",
       "    </tr>\n",
       "    <tr>\n",
       "      <th>2011-10-01</th>\n",
       "      <td>0.000000</td>\n",
       "      <td>108.244574</td>\n",
       "      <td>440.144006</td>\n",
       "      <td>551.535824</td>\n",
       "      <td>586.420653</td>\n",
       "      <td>NaN</td>\n",
       "      <td>NaN</td>\n",
       "    </tr>\n",
       "    <tr>\n",
       "      <th>2011-11-01</th>\n",
       "      <td>9.238193</td>\n",
       "      <td>130.262025</td>\n",
       "      <td>427.680717</td>\n",
       "      <td>464.420280</td>\n",
       "      <td>NaN</td>\n",
       "      <td>NaN</td>\n",
       "      <td>NaN</td>\n",
       "    </tr>\n",
       "    <tr>\n",
       "      <th>2011-12-01</th>\n",
       "      <td>14.603659</td>\n",
       "      <td>632.395122</td>\n",
       "      <td>653.091463</td>\n",
       "      <td>NaN</td>\n",
       "      <td>NaN</td>\n",
       "      <td>NaN</td>\n",
       "      <td>NaN</td>\n",
       "    </tr>\n",
       "  </tbody>\n",
       "</table>\n",
       "</div>"
      ],
      "text/plain": [
       "DiffPeriods          0           7          30          60           90  \\\n",
       "Cohort                                                                    \n",
       "2010-12-01   48.577278  282.115506  585.025338  858.427479  1125.781572   \n",
       "2011-01-01    0.000000   84.068242  483.272827  621.983990   768.453230   \n",
       "2011-02-01   24.039789  101.734579  395.873289  474.893737   560.368579   \n",
       "2011-03-01   24.848409  132.661000  431.659273  491.621091   609.799318   \n",
       "2011-04-01   22.201338  110.238361  400.549334  497.275187   580.646625   \n",
       "2011-05-01    5.801004   84.282760  415.264301  478.575950   543.698100   \n",
       "2011-06-01    7.241532   94.713149  393.708128  451.684511   510.351915   \n",
       "2011-07-01    6.722827   91.998063  344.936497  403.360005   482.496707   \n",
       "2011-08-01   43.467365  174.043293  465.019341  579.525329   745.775868   \n",
       "2011-09-01    8.862047   54.198188  514.357688  600.913359   721.041681   \n",
       "2011-10-01    0.000000  108.244574  440.144006  551.535824   586.420653   \n",
       "2011-11-01    9.238193  130.262025  427.680717  464.420280          NaN   \n",
       "2011-12-01   14.603659  632.395122  653.091463         NaN          NaN   \n",
       "\n",
       "DiffPeriods          180          360  \n",
       "Cohort                                 \n",
       "2010-12-01   1976.501519  4385.071255  \n",
       "2011-01-01   1258.266770  2378.443185  \n",
       "2011-02-01    854.838579  1447.676816  \n",
       "2011-03-01    897.040045  1350.762659  \n",
       "2011-04-01    838.868264  1075.487829  \n",
       "2011-05-01    819.843154   974.416523  \n",
       "2011-06-01    893.694468   951.021191  \n",
       "2011-07-01    706.872152          NaN  \n",
       "2011-08-01   1101.260659          NaN  \n",
       "2011-09-01    762.223594          NaN  \n",
       "2011-10-01           NaN          NaN  \n",
       "2011-11-01           NaN          NaN  \n",
       "2011-12-01           NaN          NaN  "
      ]
     },
     "execution_count": 231,
     "metadata": {},
     "output_type": "execute_result"
    }
   ],
   "source": [
    "ltv_cohorts = pd.pivot_table(merged_df, index='Cohort', columns = 'DiffPeriods', values = 'OrderSum', aggfunc= 'sum')\n",
    "ltv_cohorts.loc[:, ltv_cohorts.columns[ltv_cohorts.columns.astype(int) >= 30]] = ltv_cohorts.loc[:, ltv_cohorts.columns.astype(int) >= 30].replace(0, np.nan)\n",
    "cohorts_sizes = merged_df.groupby('Cohort').CustomerID.nunique().to_list()\n",
    "ltv_cohorts = ltv_cohorts.cumsum(axis = 1).divide(cohorts_sizes, axis = 0)\n",
    "ltv_cohorts\n"
   ]
  },
  {
   "cell_type": "code",
   "execution_count": 232,
   "metadata": {},
   "outputs": [
    {
     "data": {
      "image/png": "[encoded data removed]",
      "text/plain": [
       "<Figure size 1000x700 with 2 Axes>"
      ]
     },
     "metadata": {},
     "output_type": "display_data"
    }
   ],
   "source": [
    "fig,ax = plt.subplots(figsize=(10,7))\n",
    "plt.title(\"LTV по когортам\", fontsize=15)\n",
    "sns.heatmap(ltv_cohorts, annot=True, fmt=\".0f\")\n",
    "formatted_labels = [pd.to_datetime(label).strftime('%Y-%m-%d') for label in list(ltv_cohorts.index.date)]\n",
    "ax.set_yticklabels(formatted_labels); "
   ]
  },
  {
   "cell_type": "markdown",
   "metadata": {},
   "source": [
    "### Выводы"
   ]
  },
  {
   "cell_type": "markdown",
   "metadata": {},
   "source": [
    "1. LTV в первую неделю привлечения клиента мал, клиент начинает приносить достаточно высокую выручку к концу первого месяца пользования сервисом.\n",
    "2. Для некоторых когорт наблюдается замедление роста LTV в долгосрочной перспективе, что может указывать на недостаточную работу с повторными покупками или сниженный интерес клиентов к продуктам.\n",
    "3. С каждой новой когортой LTV периода 180-360 дней с момента первой покупки снижается, что опять же указывает на снижение интереса клиентов к сервису, особенно после полгода пользования.\n",
    "4. Новая когорта, начавшаяся 1 декабря 2011 года, показывает заметно более высокий LTV уже на 30-дневном периоде. Это может свидетельствовать об успешной маркетинговой кампании или более эффективных стратегиях привлечения.\n",
    "\n",
    "**Рекомендации**\n",
    "\n",
    "1. Работа над увеличением начального LTV у новых когорт: приветственный бонус, проведение акций.\n",
    "2. Сфокусироваться на удержании клиентов, особенно после того как прошло полгода с момента первой покупки: например рассылки, предложение подборки ходовых товаров.\n",
    "3. Внедрить персонализацию подхода, у сервиса много оптовых клиентов, стоит придумать для них персональные предложения, это может помочь увеличить начальный LTV и дальнейшую вовлеченность в продукт.\n",
    "\n",
    "**Что стоит доисследовать**\n",
    "1. Когортный анализ, но уже метрики Retention, чтобы видеть процент возвращаемости у клиентов с течением времени.\n",
    "2. В связи с чем происходит резкое увеличение LTV 7 дня и в последствии увеличение 30 дня у когорты декабря 2011 года, возможно была успешная маркетинговая компания, на которую следует ориентироваться в дальнейшем\n",
    "3. Сколько компания тратит на привлечение одного клиента?\n",
    "\n",
    "\n",
    "\n",
    "> 📌 Обязательно стоит следить за тем, чтобы LTV превышал CAC(стоимость привлечения клиента), желательно чтобы CAC составлял меньше 30% от LTV"
   ]
  }
 ],
 "metadata": {
  "kernelspec": {
   "display_name": "Python 3",
   "language": "python",
   "name": "python3"
  },
  "language_info": {
   "codemirror_mode": {
    "name": "ipython",
    "version": 3
   },
   "file_extension": ".py",
   "mimetype": "text/x-python",
   "name": "python",
   "nbconvert_exporter": "python",
   "pygments_lexer": "ipython3",
   "version": "3.11.9"
  }
 },
 "nbformat": 4,
 "nbformat_minor": 2
}
